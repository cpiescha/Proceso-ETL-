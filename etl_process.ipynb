{
 "cells": [
  {
   "cell_type": "code",
   "execution_count": 8,
   "id": "8abcb3ac",
   "metadata": {},
   "outputs": [
    {
     "name": "stdout",
     "output_type": "stream",
     "text": [
      "                                       Name  Market Cap (GBP$ Billion)\n",
      "0                            JPMorgan Chase                    286.285\n",
      "1   Industrial and Commercial Bank of China                    252.804\n",
      "2                           Bank of America                    238.243\n",
      "3                               Wells Fargo                    225.561\n",
      "4                   China Construction Bank                    188.496\n",
      "..                                      ...                        ...\n",
      "65                             Ping An Bank                     27.823\n",
      "66                       Standard Chartered                     27.329\n",
      "67                     United Overseas Bank                     25.725\n",
      "68                                QNB Group                     24.576\n",
      "69                              Bank Rakyat                     24.226\n",
      "\n",
      "[70 rows x 2 columns]\n"
     ]
    },
    {
     "name": "stderr",
     "output_type": "stream",
     "text": [
      "C:\\Users\\USUARIO\\AppData\\Local\\Temp\\ipykernel_6736\\566664341.py:17: FutureWarning: The frame.append method is deprecated and will be removed from pandas in a future version. Use pandas.concat instead.\n",
      "  extracted_data=extracted_data.append(extract_from_json(file), ignore_index=True)\n"
     ]
    }
   ],
   "source": [
    "import pandas as pd             #se cargan las librerias necesarias para la ajecucion del script\n",
    "import glob\n",
    "from datetime import datetime    \n",
    "\n",
    "\n",
    "archivo_destino='archivo_destino.csv'        #nombres de los archivos finales donde se cargara la informacion del proceso etl\n",
    "data_json='jsonfile.json'\n",
    "archivo_registro='archivo_registro.txt'\n",
    "\n",
    "def extract_from_json(file_to_process):        \n",
    "    dataframe = pd.read_json(file_to_process)    \n",
    "    return dataframe\n",
    "\n",
    "def extract():\n",
    "    extracted_data = pd.DataFrame(columns=['Name','Market Cap (US$ Billion)'])\n",
    "    for file in glob.glob('*.json'):\n",
    "        extracted_data=extracted_data.append(extract_from_json(file), ignore_index=True)\n",
    "    return extracted_data\n",
    "\n",
    "def transform(data): #convertir dolar a libra esterlina\n",
    "    data['Market Cap (US$ Billion)']=round(data['Market Cap (US$ Billion)']*0.73231,3)         #conversion de dolar US a libra esterlina GBP\n",
    "    data.rename(columns={'Market Cap (US$ Billion)':'Market Cap (GBP$ Billion)'},inplace=True)\n",
    "    data.dropna() #filtrar valores  nulos\n",
    "    return data\n",
    "\n",
    "def load(archivo_destino,data_to_load):  #cargar el archivo transformado a csv\n",
    "    data_to_load.to_csv(archivo_destino)\n",
    "    print(data_to_load)\n",
    "    \n",
    "def log(message):\n",
    "    timestamp_format = '%Y-%h-%d-%H:%M:%S' # Year-Monthname-Day-Hour-Minute-Second\n",
    "    now = datetime.now() # get current timestamp\n",
    "    timestamp = now.strftime(timestamp_format)          # registra en que momento se realizo el prooceso, con fecha y hora de ejecucion\n",
    "    with open(archivo_registro,\"a\") as f:\n",
    "        f.write(timestamp + ',' + message + '\\n')\n",
    "            \n",
    "log(\"Comienza proceso ETL\")\n",
    "\n",
    "log(\"Inicia fase de extraccion de datos\")\n",
    "Data = extract()\n",
    "log(\"finaliza fase de extraccion de datos\")\n",
    "Data\n",
    "\n",
    "log(\"Inicia fase de transformacion de datos\")\n",
    "transforming= transform(Data)\n",
    "log(\"Finaliza fase de transformacion de datos\")\n",
    "transforming\n",
    "\n",
    "log(\"Inicia fase de carga de datos\")\n",
    "load(archivo_destino,transforming)\n",
    "log(\"Finaliza fase de carga de datos\")\n",
    "\n",
    "log(\"ETL Job Ended\")"
   ]
  },
  {
   "cell_type": "code",
   "execution_count": null,
   "id": "8f7b40b2",
   "metadata": {},
   "outputs": [],
   "source": []
  },
  {
   "cell_type": "code",
   "execution_count": null,
   "id": "bc982eca",
   "metadata": {},
   "outputs": [],
   "source": []
  }
 ],
 "metadata": {
  "kernelspec": {
   "display_name": "Python 3 (ipykernel)",
   "language": "python",
   "name": "python3"
  },
  "language_info": {
   "codemirror_mode": {
    "name": "ipython",
    "version": 3
   },
   "file_extension": ".py",
   "mimetype": "text/x-python",
   "name": "python",
   "nbconvert_exporter": "python",
   "pygments_lexer": "ipython3",
   "version": "3.10.9"
  }
 },
 "nbformat": 4,
 "nbformat_minor": 5
}
